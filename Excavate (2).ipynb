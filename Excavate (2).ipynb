{
  "cells": [
    {
      "cell_type": "code",
      "execution_count": 1,
      "metadata": {
        "colab": {
          "base_uri": "https://localhost:8080/"
        },
        "id": "wUr88hUam98t",
        "outputId": "2c896aec-66ba-4f89-dc17-5770e448fc45"
      },
      "outputs": [
        {
          "name": "stdout",
          "output_type": "stream",
          "text": [
            "Non-numeric columns: ['functional group', 'A', \"A'\", 'Bi', \"B'\"]\n",
            "✅ Dataset successfully processed and ready for model training!\n",
            "Training Samples: 4121, Testing Samples: 1031\n"
          ]
        }
      ],
      "source": [
        "# First, we're importing all the necessary libraries. These are like our toolbox for data analysis and machine learning.\n",
        "\n",
        "import pandas as pd\n",
        "import numpy as np\n",
        "from sklearn.model_selection import train_test_split\n",
        "from sklearn.preprocessing import StandardScaler, LabelEncoder\n",
        "\n",
        "# Now, let's load our dataset. We're using a CSV file that was originally an Excel sheet about excavation data.\n",
        "\n",
        "file_path = \"/mnt/data/dataset_excavate.xlsx - Sheet 1.csv\"\n",
        "df = pd.read_csv(\"/content/dataset_excavate.xlsx - Sheet 1.csv\")\n",
        "\n",
        "# We need to figure out which columns contain text (non-numeric data). This is\n",
        "# important because we'll need to handle these differently.\n",
        "\n",
        "non_numeric_cols = df.select_dtypes(include=['object']).columns.tolist()\n",
        "print(\"Non-numeric columns:\", non_numeric_cols)\n",
        "\n",
        "# For our machine learning model to work, we need all data to be numeric. So, we're going to convert all our text columns into numbers using a technique called Label Encoding.\n",
        "\n",
        "label_encoders = {}\n",
        "\n",
        "for col in non_numeric_cols:\n",
        "    le = LabelEncoder()\n",
        "    df[col] = le.fit_transform(df[col])\n",
        "    label_encoders[col] = le  # We're saving these encoders for later, just in case we need to reverse the process.\n",
        "\n",
        "# Data can sometimes have missing values. We're filling those gaps with the median value of each column to keep our dataset complete.\n",
        "\n",
        "df.fillna(df.median(numeric_only=True), inplace=True)\n",
        "\n",
        "# Now, we're setting up our data for a classification task. We want to predict if a material is an insulator or not based on its properties.\n",
        "\n",
        "X_class = df.drop(columns=['PBE band gap'])  # These are our features - all columns except the band gap.\n",
        "y_class = (df['PBE band gap'] >= 0.5).astype(int)  # This is our target - 1 if it's an insulator, 0 if it's not.\n",
        "\n",
        "# We're splitting our data into training and testing sets. This helps us evaluate how well our model performs on unseen data.\n",
        "\n",
        "X_train_class, X_test_class, y_train_class, y_test_class = train_test_split(\n",
        "    X_class, y_class, test_size=0.2, random_state=42, stratify=y_class\n",
        ")\n",
        "\n",
        "# Finally, we're standardizing our features. This puts all our data on the same scale, which can help our model perform better.\n",
        "\n",
        "scaler = StandardScaler()\n",
        "X_train_class = scaler.fit_transform(X_train_class)\n",
        "X_test_class = scaler.transform(X_test_class)\n",
        "\n",
        "# We're all set! Our data is processed and ready for model training.\n",
        "\n",
        "print(\"✅ Dataset successfully processed and ready for model training!\")\n",
        "print(f\"Training Samples: {len(X_train_class)}, Testing Samples: {len(X_test_class)}\")\n"
      ]
    },
    {
      "cell_type": "code",
      "execution_count": 2,
      "metadata": {
        "colab": {
          "base_uri": "https://localhost:8080/"
        },
        "id": "OZpyKeyMpS8r",
        "outputId": "3ba60359-553d-43e8-d7b7-f74b027b0814"
      },
      "outputs": [
        {
          "name": "stdout",
          "output_type": "stream",
          "text": [
            "Classification Model Accuracy: 0.9175557710960233\n",
            "\n",
            "Classification Report:\n",
            "               precision    recall  f1-score   support\n",
            "\n",
            "           0       0.92      0.97      0.94       715\n",
            "           1       0.92      0.80      0.86       316\n",
            "\n",
            "    accuracy                           0.92      1031\n",
            "   macro avg       0.92      0.88      0.90      1031\n",
            "weighted avg       0.92      0.92      0.92      1031\n",
            "\n"
          ]
        }
      ],
      "source": [
        "from sklearn.ensemble import RandomForestClassifier\n",
        "from sklearn.metrics import accuracy_score, classification_report\n",
        "\n",
        "# Let's create our forest of decision trees!\n",
        "# We're using 100 trees and setting a random state for reproducibility\n",
        "clf = RandomForestClassifier(n_estimators=100, random_state=42)\n",
        "\n",
        "# Time to teach our forest! We're feeding it our training data\n",
        "clf.fit(X_train_class, y_train_class)\n",
        "\n",
        "# Now, let's see how well our forest can predict on new data\n",
        "y_pred_class = clf.predict(X_test_class)\n",
        "\n",
        "# How accurate is our forest? Let's find out!\n",
        "accuracy = accuracy_score(y_test_class, y_pred_class)\n",
        "print(\"Classification Model Accuracy:\", accuracy)\n",
        "\n",
        "# Let's get a detailed report card for our forest's performance\n",
        "print(\"\\nClassification Report:\\n\", classification_report(y_test_class, y_pred_class))\n"
      ]
    },
    {
      "cell_type": "code",
      "execution_count": 3,
      "metadata": {
        "id": "iSWDimqQpSuk"
      },
      "outputs": [],
      "source": [
        "# Let's focus on the insulators - materials with a decent band gap\n",
        "# We're considering anything with a PBE band gap of 0.5 eV or more\n",
        "df_insulators = df[df['PBE band gap'] >= 0.5]\n",
        "\n",
        "# Time to set up our prediction game!\n",
        "# We'll use all columns except 'PBE band gap' to predict the band gap\n",
        "X_reg = df_insulators.drop(columns=['PBE band gap'])  # These are our clues\n",
        "y_reg = df_insulators['PBE band gap']  # This is what we're trying to guess\n",
        "\n",
        "# Let's split our data into training and testing sets\n",
        "# We'll use 80% for training and keep 20% to test our predictions later\n",
        "X_train_reg, X_test_reg, y_train_reg, y_test_reg = train_test_split(\n",
        "    X_reg, y_reg, test_size=0.2, random_state=42\n",
        ")\n",
        "\n",
        "# Now, let's make sure all our features are on the same scale\n",
        "# This helps our model learn more effectively\n",
        "X_train_reg = scaler.fit_transform(X_train_reg)\n",
        "X_test_reg = scaler.transform(X_test_reg)\n"
      ]
    },
    {
      "cell_type": "code",
      "execution_count": 4,
      "metadata": {
        "colab": {
          "base_uri": "https://localhost:8080/"
        },
        "id": "e0-vOS_7pSld",
        "outputId": "b3469c70-a7cb-45a1-b482-b9cd195d84e9"
      },
      "outputs": [
        {
          "name": "stdout",
          "output_type": "stream",
          "text": [
            "Regression Model Performance:\n",
            "Mean Absolute Error (MAE): 0.24240094936708867\n",
            "Mean Squared Error (MSE): 0.14866450224683547\n"
          ]
        }
      ],
      "source": [
        "from sklearn.ensemble import RandomForestRegressor\n",
        "from sklearn.metrics import mean_absolute_error, mean_squared_error\n",
        "\n",
        "# Let's grow a forest of decision trees for continuous value predictions!\n",
        "# Using 100 trees and setting a fixed random state for consistent results\n",
        "reg = RandomForestRegressor(n_estimators=100, random_state=42)\n",
        "\n",
        "# Train our forest to predict band gaps using our prepared training data\n",
        "reg.fit(X_train_reg, y_train_reg)\n",
        "\n",
        "# Time to test our forest's prediction skills on new unseen data\n",
        "y_pred_reg = reg.predict(X_test_reg)\n",
        "\n",
        "# Let's check how close our predictions are to reality\n",
        "mae = mean_absolute_error(y_test_reg, y_pred_reg)  # Average prediction error\n",
        "mse = mean_squared_error(y_test_reg, y_pred_reg)   # Squared error (punishes big mistakes more)\n",
        "\n",
        "# Showcasing our model's report card\n",
        "print(\"Regression Model Performance:\")\n",
        "print(\"Mean Absolute Error (MAE):\", mae)  # \"How far off are we typically?\"\n",
        "print(\"Mean Squared Error (MSE):\", mse)   # \"How big are our worst mistakes?\"\n"
      ]
    },
    {
      "cell_type": "code",
      "execution_count": 5,
      "metadata": {
        "colab": {
          "base_uri": "https://localhost:8080/",
          "height": 620
        },
        "id": "Yqh5rbDAp4Hv",
        "outputId": "4634716c-8254-45da-c775-341af4a79cd0"
      },
      "outputs": [
        {
          "name": "stderr",
          "output_type": "stream",
          "text": [
            "/usr/local/lib/python3.11/dist-packages/IPython/core/pylabtools.py:151: UserWarning: Glyph 119861 (\\N{MATHEMATICAL ITALIC CAPITAL B}) missing from font(s) DejaVu Sans.\n",
            "  fig.canvas.print_figure(bytes_io, **kw)\n"
          ]
        },
        {
          "data": {
            "image/png": "[encoded data removed]",
            "text/plain": [
              "<Figure size 1000x600 with 1 Axes>"
            ]
          },
          "metadata": {},
          "output_type": "display_data"
        }
      ],
      "source": [
        "import matplotlib.pyplot as plt\n",
        "\n",
        "# Let's find out which features matter the most in our classification model!\n",
        "# The RandomForestClassifier has a built-in method to calculate feature importance\n",
        "importances = clf.feature_importances_  # This gives us a score for each feature\n",
        "feature_names = X_class.columns  # These are the names of the features we used\n",
        "\n",
        "# Time to visualize the importance of each feature in our model's decision-making process\n",
        "plt.figure(figsize=(10, 6))  # Set up a nice-sized canvas for our plot\n",
        "plt.barh(feature_names, importances)  # Create a horizontal bar chart to display feature importance\n",
        "plt.xlabel(\"Feature Importance\")  # Label for the x-axis (importance scores)\n",
        "plt.ylabel(\"Features\")  # Label for the y-axis (feature names)\n",
        "plt.title(\"Feature Importance in Classification Model\")  # Add a title to explain what we're showing\n",
        "plt.show()  # Display the plot!\n"
      ]
    },
    {
      "cell_type": "code",
      "execution_count": 6,
      "metadata": {
        "colab": {
          "base_uri": "https://localhost:8080/"
        },
        "id": "-snqJU8ep62w",
        "outputId": "debb88cd-eec2-463e-f3bb-0c4407ad5ba7"
      },
      "outputs": [
        {
          "data": {
            "text/plain": [
              "['regression_model.pkl']"
            ]
          },
          "execution_count": 6,
          "metadata": {},
          "output_type": "execute_result"
        }
      ],
      "source": [
        "import joblib\n",
        "joblib.dump(clf, \"classification_model.pkl\")\n",
        "joblib.dump(reg, \"regression_model.pkl\")\n"
      ]
    },
    {
      "cell_type": "code",
      "execution_count": 7,
      "metadata": {
        "colab": {
          "base_uri": "https://localhost:8080/"
        },
        "id": "CRz9qpDOp_pI",
        "outputId": "f8fb5c07-d2a6-4217-c5dc-a8ab9cbeda3f"
      },
      "outputs": [
        {
          "name": "stdout",
          "output_type": "stream",
          "text": [
            "Classification Model Accuracy: 0.9175557710960233\n",
            "\n",
            "Classification Report:\n",
            "               precision    recall  f1-score   support\n",
            "\n",
            "           0       0.92      0.97      0.94       715\n",
            "           1       0.92      0.80      0.86       316\n",
            "\n",
            "    accuracy                           0.92      1031\n",
            "   macro avg       0.92      0.88      0.90      1031\n",
            "weighted avg       0.92      0.92      0.92      1031\n",
            "\n"
          ]
        }
      ],
      "source": [
        "from sklearn.ensemble import RandomForestClassifier\n",
        "from sklearn.metrics import accuracy_score, classification_report\n",
        "\n",
        "# Train the model\n",
        "clf = RandomForestClassifier(n_estimators=100, random_state=42)\n",
        "clf.fit(X_train_class, y_train_class)\n",
        "\n",
        "# Make predictions\n",
        "y_pred_class = clf.predict(X_test_class)\n",
        "\n",
        "# Calculate accuracy\n",
        "accuracy = accuracy_score(y_test_class, y_pred_class)\n",
        "print(\"Classification Model Accuracy:\", accuracy)\n",
        "\n",
        "# Display detailed performance metrics\n",
        "print(\"\\nClassification Report:\\n\", classification_report(y_test_class, y_pred_class))\n"
      ]
    },
    {
      "cell_type": "code",
      "execution_count": 8,
      "metadata": {
        "colab": {
          "base_uri": "https://localhost:8080/"
        },
        "id": "jwCMuql6WryK",
        "outputId": "0a9b4c1b-e734-4bbe-a017-bf0671d148f2"
      },
      "outputs": [
        {
          "name": "stdout",
          "output_type": "stream",
          "text": [
            "Fitting 5 folds for each of 81 candidates, totalling 405 fits\n",
            "Best Parameters: {'max_depth': None, 'min_samples_leaf': 1, 'min_samples_split': 5, 'n_estimators': 200}\n",
            "Optimized Classification Model Accuracy: 0.918525703200776\n",
            "\n",
            "Classification Report:\n",
            "               precision    recall  f1-score   support\n",
            "\n",
            "           0       0.91      0.97      0.94       715\n",
            "           1       0.93      0.79      0.86       316\n",
            "\n",
            "    accuracy                           0.92      1031\n",
            "   macro avg       0.92      0.88      0.90      1031\n",
            "weighted avg       0.92      0.92      0.92      1031\n",
            "\n"
          ]
        }
      ],
      "source": [
        "from sklearn.ensemble import RandomForestClassifier\n",
        "from sklearn.model_selection import GridSearchCV\n",
        "from sklearn.metrics import accuracy_score, classification_report\n",
        "\n",
        "# Define parameter grid for tuning\n",
        "param_grid = {\n",
        "    'n_estimators': [50, 100, 200],\n",
        "    'max_depth': [10, 20, None],\n",
        "    'min_samples_split': [2, 5, 10],\n",
        "    'min_samples_leaf': [1, 2, 4]\n",
        "}\n",
        "\n",
        "# Initialize RandomForestClassifier\n",
        "clf = RandomForestClassifier(random_state=42)\n",
        "\n",
        "# Perform Grid Search\n",
        "grid_search = GridSearchCV(estimator=clf, param_grid=param_grid, cv=5, n_jobs=-1, verbose=2)\n",
        "grid_search.fit(X_train_class, y_train_class)\n",
        "\n",
        "# Best parameters from Grid Search\n",
        "print(\"Best Parameters:\", grid_search.best_params_)\n",
        "\n",
        "# Train the best model\n",
        "best_clf = grid_search.best_estimator_\n",
        "y_pred_class = best_clf.predict(X_test_class)\n",
        "\n",
        "# Evaluate the optimized model\n",
        "accuracy = accuracy_score(y_test_class, y_pred_class)\n",
        "print(\"Optimized Classification Model Accuracy:\", accuracy)\n",
        "print(\"\\nClassification Report:\\n\", classification_report(y_test_class, y_pred_class))\n"
      ]
    }
  ],
  "metadata": {
    "colab": {
      "provenance": []
    },
    "kernelspec": {
      "display_name": "Python 3",
      "name": "python3"
    },
    "language_info": {
      "name": "python"
    }
  },
  "nbformat": 4,
  "nbformat_minor": 0
}
